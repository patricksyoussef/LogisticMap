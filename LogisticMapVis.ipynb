{
 "cells": [
  {
   "cell_type": "code",
   "execution_count": null,
   "metadata": {},
   "outputs": [],
   "source": [
    "from bokeh.plotting import figure, output_notebook, output_file, show\n",
    "import matplotlib.pyplot as plt\n",
    "import numpy as np"
   ]
  },
  {
   "cell_type": "code",
   "execution_count": null,
   "metadata": {},
   "outputs": [],
   "source": [
    "def logistic_eq(r, xn):\n",
    "    return r*xn*(1-xn)\n",
    "\n",
    "\n",
    "def run_generation(r,i,n):\n",
    "    # i defines the initial iterations\n",
    "    # n is for what range to find discrete points\n",
    "    x = 0.01\n",
    "    for _ in range(i):\n",
    "        x = logistic_eq(r,x)\n",
    "    \n",
    "    pts = np.array([])\n",
    "    for _ in range(n):\n",
    "        x = logistic_eq(r,x)\n",
    "        pts = np.append(pts, np.array([x]))\n",
    "    \n",
    "    return pts"
   ]
  },
  {
   "cell_type": "code",
   "execution_count": null,
   "metadata": {},
   "outputs": [],
   "source": [
    "num_base_iters = 1000\n",
    "num_final_iters = 300\n",
    "\n",
    "r_start = 2.95\n",
    "r_stop = 4.0\n",
    "r_step = 0.001\n",
    "r_list = np.arange(r_start, r_stop, r_step)\n",
    "\n",
    "data = np.array([])\n",
    "\n",
    "for r in r_list:\n",
    "    result = run_generation(r, num_base_iters, num_final_iters)\n",
    "    data = np.append(data, result)\n",
    "    \n",
    "r_array = np.array([r_list]*num_final_iters).transpose()\n",
    "r_array = np.squeeze(np.reshape(r_array, (1, r_array.size)))"
   ]
  },
  {
   "cell_type": "code",
   "execution_count": null,
   "metadata": {
    "scrolled": true
   },
   "outputs": [],
   "source": [
    "p = figure(plot_width=2560, plot_height=1440)\n",
    "\n",
    "p.circle(r_array, data, size=2, color=\"blue\", alpha=0.015)\n",
    "\n",
    "show(p)\n",
    "output_file(\"LogisticMap.html\", title=\"LogisticMapVis\")"
   ]
  }
 ],
 "metadata": {
  "kernelspec": {
   "display_name": "Python 3",
   "language": "python",
   "name": "python3"
  },
  "language_info": {
   "codemirror_mode": {
    "name": "ipython",
    "version": 3
   },
   "file_extension": ".py",
   "mimetype": "text/x-python",
   "name": "python",
   "nbconvert_exporter": "python",
   "pygments_lexer": "ipython3",
   "version": "3.8.3"
  }
 },
 "nbformat": 4,
 "nbformat_minor": 4
}
