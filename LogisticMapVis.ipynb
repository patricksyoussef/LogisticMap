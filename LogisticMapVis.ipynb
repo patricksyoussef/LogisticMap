{
 "cells": [
  {
   "cell_type": "code",
   "execution_count": 1,
   "metadata": {},
   "outputs": [],
   "source": [
    "from bokeh.plotting import figure, output_notebook, output_file, show\n",
    "from bokeh.io import export_png\n",
    "import matplotlib.pyplot as plt\n",
    "import numpy as np"
   ]
  },
  {
   "cell_type": "markdown",
   "metadata": {},
   "source": [
    "## Helper Functions\n",
    "\n",
    "1. logistic_eq\n",
    "    1. Returns the next value for a given r and x_n\n",
    "2. run_generation\n",
    "    1. This iterates the equation for set number of iterations\n",
    "    2. i is the number of unsaved base iterations to achieve steady state\n",
    "    3. n is the number of iterations to save for plotting"
   ]
  },
  {
   "cell_type": "code",
   "execution_count": 2,
   "metadata": {},
   "outputs": [],
   "source": [
    "def logistic_eq(r, xn):\n",
    "    return r*xn*(1-xn)\n",
    "\n",
    "\n",
    "def run_generation(r,i,n):\n",
    "    # i defines the initial iterations\n",
    "    # n is for what range to find discrete points\n",
    "    x = 0.01\n",
    "    for _ in range(i):\n",
    "        x = logistic_eq(r,x)\n",
    "    \n",
    "    pts = np.array([])\n",
    "    for _ in range(n):\n",
    "        x = logistic_eq(r,x)\n",
    "        pts = np.append(pts, np.array([x]))\n",
    "    \n",
    "    return pts"
   ]
  },
  {
   "cell_type": "markdown",
   "metadata": {},
   "source": [
    "## Calling Generations\n",
    "\n",
    "Here is when the list of values to iterate over is generated and the large matrix of r values and populations is saved to be plotted later."
   ]
  },
  {
   "cell_type": "code",
   "execution_count": 3,
   "metadata": {
    "scrolled": false
   },
   "outputs": [
    {
     "name": "stdout",
     "output_type": "stream",
     "text": [
      "0 % done!\n",
      "10 % done!\n",
      "20 % done!\n",
      "30 % done!\n",
      "40 % done!\n",
      "50 % done!\n",
      "60 % done!\n",
      "70 % done!\n",
      "80 % done!\n",
      "90 % done!\n",
      "Done!\n"
     ]
    }
   ],
   "source": [
    "num_base_iters = 1000\n",
    "num_final_iters = 500\n",
    "\n",
    "\n",
    "# One of my favorite ranges\n",
    "# r_start = 3.8475\n",
    "# r_stop = 3.8505\n",
    "\n",
    "# Test your own!\n",
    "# To emulate images like mine takes a long time to compute and generate image\n",
    "num_base_iters = 1000   # Base iterations to reach steady-state, 1000 is plenty\n",
    "num_final_iters = 500   # How many iterations to save for plotting\n",
    "r_start = 2.9           # The lower bound of R values to plot for\n",
    "r_stop = 3.99           # The upper bound of R values to plot for\n",
    "n = 1000                # Number of equally space r values\n",
    "r_list = np.linspace(r_start, r_stop, num=n)\n",
    "\n",
    "# Initializing the data matrix\n",
    "data = np.zeros([len(r_list)*num_final_iters])\n",
    "\n",
    "i = 0;\n",
    "p = 0;\n",
    "percent_count = np.round(len(r_list)/10)\n",
    "for r in r_list:\n",
    "    if i % percent_count == 0:\n",
    "        print(p,\"% done!\")\n",
    "        p += 10;\n",
    "    result = run_generation(r, num_base_iters, num_final_iters)\n",
    "    \n",
    "    # Data Indexing\n",
    "    s = i * num_final_iters\n",
    "    e = s + num_final_iters\n",
    "    data[s:e] = result\n",
    "    \n",
    "    i += 1;\n",
    "\n",
    "print(\"Done!\")\n",
    "\n",
    "# Reshaping data for plotting\n",
    "r_array = np.array([r_list]*num_final_iters).transpose()\n",
    "r_array = np.squeeze(np.reshape(r_array, (1, r_array.size)))\n",
    "D = np.array([[r_array],[data]])\n",
    "D = D[:,(D[1,:] >= 0.0) & (D[1,:] <= 1.0)]"
   ]
  },
  {
   "cell_type": "markdown",
   "metadata": {},
   "source": [
    "## Generate Bokeh Plot\n",
    "Bokeh is wonderful, as long as your set isn't too large (for me an HTML > 150mb would not work) as it lets you interactively explore the data. This helped me in determining my favorite regions for R."
   ]
  },
  {
   "cell_type": "code",
   "execution_count": 4,
   "metadata": {
    "scrolled": false
   },
   "outputs": [],
   "source": [
    "p = figure(plot_width=2560, plot_height=1440, output_backend=\"webgl\")\n",
    "\n",
    "p.circle(D[0,:], D[1,:], size=0.25, color=\"#e4f0fc\", alpha=0.3)\n",
    "p.xgrid.visible = False\n",
    "p.ygrid.visible = False\n",
    "p.background_fill_color = \"black\"\n",
    "p.background_fill_alpha = 0.85\n",
    "\n",
    "show(p)\n",
    "output_file(\"LogisticMapTest.html\", title=\"LogisticMapVis\")"
   ]
  },
  {
   "cell_type": "markdown",
   "metadata": {},
   "source": [
    "### Common Issues For Me\n",
    "\n",
    "Make sure to run the following for an anaconda environment.\n",
    "```bash\n",
    "conda install selenium\n",
    "conda install -c conda-forge firefox geckodriver\n",
    "```"
   ]
  },
  {
   "cell_type": "code",
   "execution_count": 5,
   "metadata": {
    "scrolled": false
   },
   "outputs": [
    {
     "data": {
      "text/plain": [
       "'/Users/patrick/git/LogisticMap/map_intersection.png'"
      ]
     },
     "execution_count": 5,
     "metadata": {},
     "output_type": "execute_result"
    }
   ],
   "source": [
    "export_png(p, filename=\"map_intersection.png\")"
   ]
  },
  {
   "cell_type": "code",
   "execution_count": null,
   "metadata": {},
   "outputs": [],
   "source": []
  }
 ],
 "metadata": {
  "kernelspec": {
   "display_name": "Python 3",
   "language": "python",
   "name": "python3"
  },
  "language_info": {
   "codemirror_mode": {
    "name": "ipython",
    "version": 3
   },
   "file_extension": ".py",
   "mimetype": "text/x-python",
   "name": "python",
   "nbconvert_exporter": "python",
   "pygments_lexer": "ipython3",
   "version": "3.8.5"
  }
 },
 "nbformat": 4,
 "nbformat_minor": 4
}
